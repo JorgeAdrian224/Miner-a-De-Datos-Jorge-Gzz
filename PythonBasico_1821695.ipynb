{
 "cells": [
  {
   "cell_type": "markdown",
   "metadata": {},
   "source": [
    "Ejercicio 1\n",
    "Realiza una variable con tu matricula y realiza una secuencia de imprimir con tu nombre y tu matricula concatenados\n"
   ]
  },
  {
   "cell_type": "code",
   "execution_count": 1,
   "metadata": {},
   "outputs": [
    {
     "name": "stdout",
     "output_type": "stream",
     "text": [
      "Jorge Adrian Gonzalez Peña 1821695\n"
     ]
    }
   ],
   "source": [
    "mat=1821695\n",
    "print(\"Jorge Adrian Gonzalez Peña\", mat)"
   ]
  },
  {
   "cell_type": "markdown",
   "metadata": {},
   "source": [
    "Ejercicio 2:\n",
    "Pidiendo el input del usuario pide dos números y crea una pequeña calculadora con los operadores básicos de suma, resta, multiplicación, división, y exponente.\n",
    "\n",
    "Utilizando el loop de while"
   ]
  },
  {
   "cell_type": "code",
   "execution_count": 4,
   "metadata": {
    "scrolled": false
   },
   "outputs": [
    {
     "name": "stdout",
     "output_type": "stream",
     "text": [
      "3\n",
      "Introduce un número:3\n",
      "Introduce otro número: 5\n",
      "1.Suma (a+b) 2.Resta (a-b) 3.Multiplicacion (a*b) 4.Division (a/b) 5.Salir\n",
      "Seleccione una opcion:2\n",
      "Resultado--> -2\n",
      "1\n",
      "Introduce un número:5\n",
      "Introduce otro número: 5\n",
      "1.Suma (a+b) 2.Resta (a-b) 3.Multiplicacion (a*b) 4.Division (a/b) 5.Salir\n",
      "Seleccione una opcion:5\n",
      "Adios\n"
     ]
    }
   ],
   "source": [
    "op=0\n",
    "while op != 1:\n",
    "    input()\n",
    "    a = int(input(\"Introduce un número:\" ))\n",
    "    b = int(input(\"Introduce otro número: \"))\n",
    "    print(\"1.Suma (a+b) 2.Resta (a-b) 3.Multiplicacion (a*b) 4.Division (a/b) 5.Salir\")\n",
    "    opc = int(input(\"Seleccione una opcion:\" ))\n",
    "    if opc==1:\n",
    "         print(\"Resultado-->\",a+b)\n",
    "    elif opc==2:\n",
    "        print(\"Resultado-->\",a-b)\n",
    "    elif opc==3:\n",
    "        print(\"Resultado-->\",a*b)\n",
    "    elif opc==4:\n",
    "        print(\"Resultado-->\",a/b)\n",
    "    elif opc==5:\n",
    "        print(\"Adios\")\n",
    "        op=1\n",
    "    else:\n",
    "        print(\"Opcion no valida\")"
   ]
  },
  {
   "cell_type": "markdown",
   "metadata": {},
   "source": [
    "Ejercicio 3:\n",
    "Con loop while o for, realiza una lista de 10 numeros multiplos de 3, y después realiza una función de loop que sume todos los números dentro del arreglo."
   ]
  },
  {
   "cell_type": "code",
   "execution_count": 6,
   "metadata": {},
   "outputs": [
    {
     "name": "stdout",
     "output_type": "stream",
     "text": [
      "El arreglo es--> [3, 6, 9, 12, 15, 18, 21, 24, 27, 30]\n",
      "La suma del arreglo es--> 165\n"
     ]
    }
   ],
   "source": [
    "lista=[]\n",
    "for i in range(1,11,1):\n",
    "    lista.append(i*3)\n",
    "suma=0\n",
    "print(\"El arreglo es-->\", lista)\n",
    "for i in range(0,10,1):\n",
    "    suma=suma+lista[i]\n",
    "print(\"La suma del arreglo es-->\", suma)"
   ]
  },
  {
   "cell_type": "markdown",
   "metadata": {},
   "source": [
    "Ejercicio 4\n",
    "Con una función de if else, revisar si un número es par o es impar. Con una función de if else, revisar si un número es primo o no."
   ]
  },
  {
   "cell_type": "code",
   "execution_count": 7,
   "metadata": {},
   "outputs": [
    {
     "name": "stdout",
     "output_type": "stream",
     "text": [
      "Introduce un número:5\n",
      "El numero 5  es impar\n",
      "El numero 5  es primo\n"
     ]
    }
   ],
   "source": [
    "\n",
    "a = int(input(\"Introduce un número:\" ))\n",
    "if a%2==0:\n",
    "    print(\"El numero\",a,\" es par\")\n",
    "else:\n",
    "    print(\"El numero\",a,\" es impar\")\n",
    "for i in range(2,a):\n",
    "    if a%i==0:\n",
    "        print(\"El numero\",a,\" no es primo\")\n",
    "        break\n",
    "else:\n",
    "    print(\"El numero\",a,\" es primo\")"
   ]
  },
  {
   "cell_type": "markdown",
   "metadata": {},
   "source": [
    "Ejercicio 5\n",
    "Utilizando diferentes clases en python, crea una calculadora con los operadores básicos de suma, resta, multiplicación, división, y exponente."
   ]
  },
  {
   "cell_type": "code",
   "execution_count": 8,
   "metadata": {},
   "outputs": [
    {
     "name": "stdout",
     "output_type": "stream",
     "text": [
      "1\n",
      "Introduce un número:1\n",
      "Introduce otro número: 1\n",
      "1.Suma (a+b) 2.Resta (a-b) 3.Multiplicacion (a*b) 4.Division (a/b) 5.Salir\n",
      "Seleccione una opcion:1\n",
      "Resultado--> 2\n",
      "5\n",
      "Introduce un número:5\n",
      "Introduce otro número: 5\n",
      "1.Suma (a+b) 2.Resta (a-b) 3.Multiplicacion (a*b) 4.Division (a/b) 5.Salir\n",
      "Seleccione una opcion:5\n",
      "Adios\n"
     ]
    }
   ],
   "source": [
    "def suma(a,b):\n",
    "    return a+b\n",
    "def resta(a,b):\n",
    "    return a-b\n",
    "def mult(a,b):\n",
    "    return a*b\n",
    "def divi(a,b):\n",
    "    return a/b\n",
    "op=0\n",
    "while op != 1:\n",
    "    input()\n",
    "    a = int(input(\"Introduce un número:\" ))\n",
    "    b = int(input(\"Introduce otro número: \"))\n",
    "    print(\"1.Suma (a+b) 2.Resta (a-b) 3.Multiplicacion (a*b) 4.Division (a/b) 5.Salir\")\n",
    "    opc = int(input(\"Seleccione una opcion:\" ))\n",
    "    if opc==1:\n",
    "         print(\"Resultado-->\",suma(a,b))\n",
    "    elif opc==2:\n",
    "        print(\"Resultado-->\",resta(a,b))\n",
    "    elif opc==3:\n",
    "        print(\"Resultado-->\",mult(a,b))\n",
    "    elif opc==4:\n",
    "        print(\"Resultado-->\",divi(a,b))\n",
    "    elif opc==5:\n",
    "        print(\"Adios\")\n",
    "        op=1\n",
    "    else:\n",
    "        print(\"Opcion no valida\")"
   ]
  },
  {
   "cell_type": "markdown",
   "metadata": {},
   "source": [
    "Ejercicios con estructuras básicas de python.\n",
    "Tuplas\n",
    "Crear una variable flotante, integer, boleana y compleja e imprimir el tipo de variable que es.\n",
    "Crear una tupla con valores enteros imprimir el primer y ultimo valor.\n",
    "Añadir 3 valores de string a la tupla.\n",
    "Verificar si una variable existe dentro de la tupla."
   ]
  },
  {
   "cell_type": "code",
   "execution_count": 9,
   "metadata": {},
   "outputs": [],
   "source": [
    "flotante=7.7456\n",
    "entero=1\n",
    "boleano=False\n",
    "compleja=3+9j"
   ]
  },
  {
   "cell_type": "code",
   "execution_count": 10,
   "metadata": {},
   "outputs": [
    {
     "name": "stdout",
     "output_type": "stream",
     "text": [
      "<class 'float'>\n",
      "<class 'int'>\n",
      "<class 'bool'>\n",
      "<class 'complex'>\n"
     ]
    }
   ],
   "source": [
    "print(type(flotante))\n",
    "print(type(entero))\n",
    "print(type(boleano))\n",
    "print(type(compleja))"
   ]
  },
  {
   "cell_type": "code",
   "execution_count": 17,
   "metadata": {},
   "outputs": [
    {
     "name": "stdout",
     "output_type": "stream",
     "text": [
      "10 , 16\n"
     ]
    }
   ],
   "source": [
    "a=(10,35,14,16)\n",
    "print(a[0],\",\" ,a[-1])"
   ]
  },
  {
   "cell_type": "code",
   "execution_count": 18,
   "metadata": {},
   "outputs": [
    {
     "data": {
      "text/plain": [
       "(10, 35, 14, 16, 'añado', 'un', 'valor')"
      ]
     },
     "execution_count": 18,
     "metadata": {},
     "output_type": "execute_result"
    }
   ],
   "source": [
    "a=a+(\"añado\", \"un\", \"valor\")\n",
    "a"
   ]
  },
  {
   "cell_type": "code",
   "execution_count": 19,
   "metadata": {},
   "outputs": [
    {
     "data": {
      "text/plain": [
       "(True, False)"
      ]
     },
     "execution_count": 19,
     "metadata": {},
     "output_type": "execute_result"
    }
   ],
   "source": [
    "\"un\" in a, 100 in a"
   ]
  },
  {
   "cell_type": "markdown",
   "metadata": {},
   "source": [
    "Listas\n",
    "Crear una lista con 40 elementos aleatorios enteros.\n",
    "Con una funcion (def) crear dos listas nuevas a partir de la lista creada por numeros aleatorios, en la cual en una esten los elementos pares, y en la otra los elementos impares.\n",
    "Crear dos variables con la longitud de ambas listas nuevas e imprimir las variables.\n",
    "Ordenar los elementos de la lista par de mayor a menor, y los de la lista impar de menor a mayor.\n",
    "Utilizar al menos cuatro de las funciones de listas en python en la lista original de 40 elementos."
   ]
  },
  {
   "cell_type": "code",
   "execution_count": 20,
   "metadata": {},
   "outputs": [
    {
     "data": {
      "text/plain": [
       "[7,\n",
       " 738,\n",
       " 258,\n",
       " 389,\n",
       " 935,\n",
       " 900,\n",
       " 336,\n",
       " 236,\n",
       " 1000,\n",
       " 588,\n",
       " 433,\n",
       " 647,\n",
       " 103,\n",
       " 488,\n",
       " 893,\n",
       " 725,\n",
       " 717,\n",
       " 252,\n",
       " 746,\n",
       " 231,\n",
       " 497,\n",
       " 986,\n",
       " 875,\n",
       " 41,\n",
       " 661,\n",
       " 76,\n",
       " 565,\n",
       " 539,\n",
       " 266,\n",
       " 684,\n",
       " 70,\n",
       " 461,\n",
       " 398,\n",
       " 647,\n",
       " 671,\n",
       " 677,\n",
       " 317,\n",
       " 710,\n",
       " 994,\n",
       " 523]"
      ]
     },
     "execution_count": 20,
     "metadata": {},
     "output_type": "execute_result"
    }
   ],
   "source": [
    "from random import randint\n",
    "lista=[randint(1, 1000) for i in range(40)]\n",
    "lista"
   ]
  },
  {
   "cell_type": "code",
   "execution_count": 21,
   "metadata": {},
   "outputs": [
    {
     "name": "stdout",
     "output_type": "stream",
     "text": [
      "Pares= [738, 258, 900, 336, 236, 1000, 588, 488, 252, 746, 986, 76, 266, 684, 70, 398, 710, 994]\n",
      "Impares= [7, 389, 935, 433, 647, 103, 893, 725, 717, 231, 497, 875, 41, 661, 565, 539, 461, 647, 671, 677, 317, 523]\n"
     ]
    }
   ],
   "source": [
    "def separador(lista):\n",
    "    ab=len(lista)\n",
    "    pares=[]\n",
    "    impares=[]\n",
    "    for i in range(ab):\n",
    "        if lista[i]%2==0:\n",
    "            pares.append(lista[i])\n",
    "        else:\n",
    "            impares.append(lista[i])\n",
    "    return pares,impares\n",
    "pares, impares=separador(lista)\n",
    "print(\"Pares=\", pares)\n",
    "print(\"Impares=\",impares)"
   ]
  },
  {
   "cell_type": "code",
   "execution_count": 23,
   "metadata": {},
   "outputs": [
    {
     "name": "stdout",
     "output_type": "stream",
     "text": [
      "Longitudes:\n",
      "Pares= 18\n",
      "Impares= 22\n"
     ]
    }
   ],
   "source": [
    "longpar=len(pares)\n",
    "longimpar=len(impares)\n",
    "print(\"Longitudes:\")\n",
    "print(\"Pares=\", longpar)\n",
    "print(\"Impares=\",longimpar)"
   ]
  },
  {
   "cell_type": "code",
   "execution_count": 24,
   "metadata": {},
   "outputs": [
    {
     "name": "stdout",
     "output_type": "stream",
     "text": [
      "Pares= [1000, 994, 986, 900, 746, 738, 710, 684, 588, 488, 398, 336, 266, 258, 252, 236, 76, 70]\n",
      "Impares= [7, 41, 103, 231, 317, 389, 433, 461, 497, 523, 539, 565, 647, 647, 661, 671, 677, 717, 725, 875, 893, 935]\n"
     ]
    }
   ],
   "source": [
    "pares.sort(reverse=True)\n",
    "impares.sort()\n",
    "print(\"Pares=\", pares)\n",
    "print(\"Impares=\",impares)"
   ]
  },
  {
   "cell_type": "code",
   "execution_count": 26,
   "metadata": {},
   "outputs": [
    {
     "name": "stdout",
     "output_type": "stream",
     "text": [
      "[103, 986, 336, 565, 461, 588, 252, 677, 746, 647]\n"
     ]
    }
   ],
   "source": [
    "import random as rd\n",
    "list_ejemplo=rd.sample(lista,10)\n",
    "print(list_ejemplo)"
   ]
  },
  {
   "cell_type": "code",
   "execution_count": 27,
   "metadata": {},
   "outputs": [
    {
     "name": "stdout",
     "output_type": "stream",
     "text": [
      "[103, 986, 336, 565, 461, 588, 252, 677, 746, 647, 1000]\n"
     ]
    }
   ],
   "source": [
    "list_ejemplo.append(1000)\n",
    "print(list_ejemplo)"
   ]
  },
  {
   "cell_type": "code",
   "execution_count": 28,
   "metadata": {},
   "outputs": [
    {
     "name": "stdout",
     "output_type": "stream",
     "text": [
      "[103, 986, 336, 565, 'cuatro', 461, 588, 252, 677, 746, 647, 1000]\n"
     ]
    }
   ],
   "source": [
    "list_ejemplo.insert(4, \"cuatro\")\n",
    "print(list_ejemplo)\n"
   ]
  },
  {
   "cell_type": "code",
   "execution_count": 29,
   "metadata": {},
   "outputs": [
    {
     "name": "stdout",
     "output_type": "stream",
     "text": [
      "[1000, 647, 746, 677, 252, 588, 461, 'cuatro', 565, 336, 986, 103]\n"
     ]
    }
   ],
   "source": [
    "list_ejemplo.reverse()\n",
    "print(list_ejemplo)"
   ]
  },
  {
   "cell_type": "code",
   "execution_count": 30,
   "metadata": {},
   "outputs": [
    {
     "name": "stdout",
     "output_type": "stream",
     "text": [
      "[1000, 647, 746, 677, 252, 588, 461, 'cuatro', 336, 986, 103]\n"
     ]
    }
   ],
   "source": [
    "\n",
    "list_ejemplo.pop(8)\n",
    "print(list_ejemplo)"
   ]
  },
  {
   "cell_type": "markdown",
   "metadata": {},
   "source": [
    "Diccionarios\n",
    "Crear un diccionario de 6 personas que conozcas con su primer nombre y su edad.\n",
    "Crear una lista con los valores de la edad y reacomodar la lista de menor a mayor valor.\n",
    "Usando el diccionario y un loop, imprimir solo los nombres.\n",
    "Añadir dos personas nuevas a tu diccionario, incluyendo edad."
   ]
  },
  {
   "cell_type": "code",
   "execution_count": 31,
   "metadata": {},
   "outputs": [
    {
     "data": {
      "text/plain": [
       "{'Jorge': 20, 'Paty': 21, 'Luis': 20, 'Paco': 20, 'Yahir': 20, 'Marcelo': 21}"
      ]
     },
     "execution_count": 31,
     "metadata": {},
     "output_type": "execute_result"
    }
   ],
   "source": [
    "diccionario={\"Jorge\":20,\"Paty\":21,\"Luis\":20,\"Paco\":20,\"Yahir\":20,\"Marcelo\":21}\n",
    "diccionario"
   ]
  },
  {
   "cell_type": "code",
   "execution_count": 32,
   "metadata": {},
   "outputs": [
    {
     "name": "stdout",
     "output_type": "stream",
     "text": [
      "[20, 20, 20, 20, 21, 21]\n"
     ]
    }
   ],
   "source": [
    "edades=[i for i in diccionario.values()]\n",
    "edades.sort()\n",
    "print(edades)"
   ]
  },
  {
   "cell_type": "code",
   "execution_count": 33,
   "metadata": {},
   "outputs": [
    {
     "name": "stdout",
     "output_type": "stream",
     "text": [
      "Jorge\n",
      "Paty\n",
      "Luis\n",
      "Paco\n",
      "Yahir\n",
      "Marcelo\n"
     ]
    }
   ],
   "source": [
    "for i in diccionario:\n",
    "    print(i)"
   ]
  },
  {
   "cell_type": "code",
   "execution_count": 34,
   "metadata": {},
   "outputs": [
    {
     "data": {
      "text/plain": [
       "{'Jorge': 20,\n",
       " 'Paty': 21,\n",
       " 'Luis': 20,\n",
       " 'Paco': 20,\n",
       " 'Yahir': 20,\n",
       " 'Marcelo': 21,\n",
       " 'Sara': 22,\n",
       " 'Wong': 20}"
      ]
     },
     "execution_count": 34,
     "metadata": {},
     "output_type": "execute_result"
    }
   ],
   "source": [
    "diccionario[\"Sara\"]=22\n",
    "diccionario[\"Wong\"]=20\n",
    "diccionario"
   ]
  },
  {
   "cell_type": "markdown",
   "metadata": {},
   "source": [
    "Sets\n",
    "Crea un set con 100 numeros aleatorios enteros del 1 al 25.\n",
    "Comprueba la longitud de tu set.\n",
    "Crea una lista de 5 numeros aleatorios del 1 al 10 y comprueba si cada valor aparece en el set inicial."
   ]
  },
  {
   "cell_type": "code",
   "execution_count": 72,
   "metadata": {},
   "outputs": [
    {
     "data": {
      "text/plain": [
       "{1,\n",
       " 2,\n",
       " 3,\n",
       " 4,\n",
       " 5,\n",
       " 6,\n",
       " 7,\n",
       " 8,\n",
       " 9,\n",
       " 10,\n",
       " 11,\n",
       " 12,\n",
       " 13,\n",
       " 14,\n",
       " 15,\n",
       " 16,\n",
       " 17,\n",
       " 18,\n",
       " 19,\n",
       " 20,\n",
       " 21,\n",
       " 22,\n",
       " 23,\n",
       " 24,\n",
       " 25}"
      ]
     },
     "execution_count": 72,
     "metadata": {},
     "output_type": "execute_result"
    }
   ],
   "source": [
    "s={randint(1,25) for i in range(100)}\n",
    "s"
   ]
  },
  {
   "cell_type": "code",
   "execution_count": 73,
   "metadata": {},
   "outputs": [
    {
     "name": "stdout",
     "output_type": "stream",
     "text": [
      "25\n"
     ]
    }
   ],
   "source": [
    "\n",
    "print(len(s))"
   ]
  },
  {
   "cell_type": "code",
   "execution_count": 74,
   "metadata": {},
   "outputs": [
    {
     "data": {
      "text/plain": [
       "[7, 8, 2, 3, 2]"
      ]
     },
     "execution_count": 74,
     "metadata": {},
     "output_type": "execute_result"
    }
   ],
   "source": [
    "l=[r.randint(1,10) for i in range(5)]\n",
    "l"
   ]
  },
  {
   "cell_type": "code",
   "execution_count": 75,
   "metadata": {},
   "outputs": [
    {
     "name": "stdout",
     "output_type": "stream",
     "text": [
      "¿ 7  está en el set?  True\n",
      "¿ 8  está en el set?  True\n",
      "¿ 2  está en el set?  True\n",
      "¿ 3  está en el set?  True\n",
      "¿ 2  está en el set?  True\n"
     ]
    }
   ],
   "source": [
    "for i in range(len(l)):\n",
    "    print(\"¿\",l[i],\" está en el set? \",l[i] in s)"
   ]
  },
  {
   "cell_type": "code",
   "execution_count": null,
   "metadata": {},
   "outputs": [],
   "source": []
  }
 ],
 "metadata": {
  "kernelspec": {
   "display_name": "Python 3",
   "language": "python",
   "name": "python3"
  },
  "language_info": {
   "codemirror_mode": {
    "name": "ipython",
    "version": 3
   },
   "file_extension": ".py",
   "mimetype": "text/x-python",
   "name": "python",
   "nbconvert_exporter": "python",
   "pygments_lexer": "ipython3",
   "version": "3.8.3"
  }
 },
 "nbformat": 4,
 "nbformat_minor": 4
}
